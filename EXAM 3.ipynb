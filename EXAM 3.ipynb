{
 "cells": [
  {
   "cell_type": "code",
   "execution_count": 5,
   "id": "dc99d0a4",
   "metadata": {},
   "outputs": [],
   "source": [
    "# Import libraries\n",
    "import math\n",
    "import numpy as np"
   ]
  },
  {
   "cell_type": "code",
   "execution_count": 8,
   "id": "05db57a4",
   "metadata": {},
   "outputs": [],
   "source": [
    "# Define function\n",
    "\n",
    "def TrapezoidalQ(n,b,y,z,s):\n",
    "   # n is Manning's n \n",
    "   # T = Bottom width of channel (ft)\n",
    "   # z = Side slope of channel (horizontal)\n",
    "   # s = Directional slope of channel - direction of flow\n",
    "   A = b*y + z*y*y\n",
    "   W = b + 2*y*math.sqrt(1 + z*z)\n",
    "   R = A/W\n",
    "   Q = 1.49/n * A * math.pow(R, 2.0/3.0) * math.sqrt(s)\n",
    "   return Q"
   ]
  },
  {
   "cell_type": "code",
   "execution_count": 11,
   "id": "9f341be6",
   "metadata": {},
   "outputs": [],
   "source": [
    "# compute the height of water\n",
    "n=0.020\n",
    "Q=15000\n",
    "h=5\n",
    "l=1 \n",
    "s=3\n",
    "# Define Function Q\n",
    "def f(Q):\n",
    "    fpx = 1.49/n * A * math.pow(R, 2.0/3.0) * math.sqrt(s)\n",
    "    return(fpx)"
   ]
  },
  {
   "cell_type": "code",
   "execution_count": null,
   "id": "fc4a00fd",
   "metadata": {},
   "outputs": [],
   "source": []
  }
 ],
 "metadata": {
  "kernelspec": {
   "display_name": "Python 3 (ipykernel)",
   "language": "python",
   "name": "python3"
  },
  "language_info": {
   "codemirror_mode": {
    "name": "ipython",
    "version": 3
   },
   "file_extension": ".py",
   "mimetype": "text/x-python",
   "name": "python",
   "nbconvert_exporter": "python",
   "pygments_lexer": "ipython3",
   "version": "3.8.15"
  }
 },
 "nbformat": 4,
 "nbformat_minor": 5
}
